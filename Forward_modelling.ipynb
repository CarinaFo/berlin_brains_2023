{
 "cells": [
  {
   "cell_type": "markdown",
   "metadata": {},
   "source": [
    "# Computing the forward model\n",
    "\n",
    "`\n",
    "Authors: Britta Westner, Eric Larson, Denis Engemann, Alex Gramfort\n",
    "`\n",
    "\n",
    "The aim of this lecture is to show you how to compute a forward model. This is a necessary ingredient for source reconstruction methods."
   ]
  },
  {
   "cell_type": "code",
   "execution_count": null,
   "metadata": {},
   "outputs": [],
   "source": [
    "%matplotlib qt\n",
    "import matplotlib.pyplot as plt\n",
    "\n",
    "import os\n",
    "import mne\n",
    "\n",
    "# Change the following path to where the ds000117 and the extra folder are on your disk\n",
    "data_path = os.path.expanduser(\"~/Documents/teaching/2023_berlin_brains/data/\")\n",
    "\n",
    "# We load the epochs to get access to epochs.info\n",
    "epochs_fname = os.path.join(data_path, 'sub-02/sub-02-epo.fif')\n",
    "epochs = mne.read_epochs(epochs_fname, preload=False)"
   ]
  },
  {
   "cell_type": "markdown",
   "metadata": {},
   "source": [
    "# Computing the forward operator\n",
    "\n",
    "To compute a forward operator (also known as forward model, gain matrix, or - less accurately - lead field) we need:\n",
    "\n",
    "   - a ``-trans.fif`` file that contains the coregistration information\n",
    "   - a source space\n",
    "   - the BEM surfaces"
   ]
  },
  {
   "cell_type": "markdown",
   "metadata": {},
   "source": [
    "## Compute Boundary Element Models (BEM) surfaces\n",
    "\n",
    "\n",
    "Here, we work with **pre-computed BEM surfaces**. \n",
    "\n",
    "Computing the BEM surfaces requires _FreeSurfer_ (get it at: https://surfer.nmr.mgh.harvard.edu/fswiki/DownloadAndInstall#Download) and makes use of either of the two following command line tools:\n",
    "\n",
    "[mne watershed_bem](http://martinos.org/mne/dev/generated/commands.html#mne-watershed-bem)\n",
    "\n",
    "[mne flash_bem](http://martinos.org/mne/dev/generated/commands.html#mne-flash-bem)\n",
    "\n",
    "It can also be done by directly calling the functions from a script (FreeSurfer installation needed):\n",
    "\n",
    "https://mne.tools/stable/generated/mne.bem.make_watershed_bem.html\n",
    "\n",
    "https://mne.tools/stable/generated/mne.bem.make_flash_bem.html\n",
    "\n"
   ]
  },
  {
   "cell_type": "markdown",
   "metadata": {},
   "source": [
    "### Re-computing the BEM surfaces yourself\n",
    "\n",
    "If you would like to try out BEM reconstruction for yourself later, you can install FreeSurfer on MacOS or Linux directly and in a VirtualMachine for Windows. \n",
    "\n",
    "To compute BEM segmentations for this dataset, you set up the `SUBJECTS_DIR` and run:\n",
    "\n",
    "    mne watershed_bem -s sub-02 --overwrite\n",
    "    mne make_scalp_surfaces -s sub-02 --force --overwrite\n"
   ]
  },
  {
   "cell_type": "markdown",
   "metadata": {},
   "source": [
    "## Visualize the MRI and derived BEM surfaces\n",
    "\n",
    "Now, let's first look at the BEM surfaces.\n",
    "\n",
    "For EEG we use 3 layers (inner skull, outer skull, and skin), while for MEG 1 layer (inner skull) is enough.\n"
   ]
  },
  {
   "cell_type": "code",
   "execution_count": null,
   "metadata": {},
   "outputs": [],
   "source": [
    "# first set the path to the T1\n",
    "t1_fname = os.path.join(data_path, 'freesurfer/sub-02/mri/T1.mgz')"
   ]
  },
  {
   "cell_type": "markdown",
   "metadata": {},
   "source": [
    "We can have a look at the MRI using `nilearn`:"
   ]
  },
  {
   "cell_type": "code",
   "execution_count": null,
   "metadata": {},
   "outputs": [],
   "source": [
    "%matplotlib inline\n",
    "from nilearn import plotting\n",
    "plotting.plot_anat(t1_fname);\n",
    "plt.show()"
   ]
  },
  {
   "cell_type": "markdown",
   "metadata": {},
   "source": [
    "We can also look at the BEM model (the identified surfaces of the BEM):"
   ]
  },
  {
   "cell_type": "code",
   "execution_count": null,
   "metadata": {},
   "outputs": [],
   "source": [
    "# This is the path that point to the directory that has the subject folder(s) for the BEM models.\n",
    "# Here, it is the path that you saved the extra data at.\n",
    "subjects_dir = os.path.join(data_path, 'freesurfer')\n",
    "\n",
    "# plot the BEM\n",
    "%matplotlib inline\n",
    "mne.viz.plot_bem(subject='sub-02', subjects_dir=subjects_dir,\n",
    "                 mri=t1_fname,\n",
    "                 orientation='coronal');"
   ]
  },
  {
   "cell_type": "markdown",
   "metadata": {},
   "source": [
    "## Coregistration \n",
    "\n",
    "The next step usually would be to coregister the MRI coordinate system with the MEG coordinate system. This is done to get the sensors into the right relation to the head model for the forward model computation.\n",
    "\n",
    "In the MNE software, the transformation to align the head and the sensors in stored in a so called *trans* file. It is a FIF file that ends with `-trans.fif`. It can be obtained with ``mne_analyze`` (Unix tools), ``mne.gui.coregistration`` (see below) or ``mrilab`` if you're using a Neuromag system.\n",
    "\n",
    "For this data set that's already done, but if you wanted to do this on your own again, below is the code to use.\n",
    "There is information on how to do this on the MNE-Python homepage in the [Source alignment tutorial, part \"Defining the head to MRI `trans` using the GUI\"](https://mne.tools/stable/auto_tutorials/forward/20_source_alignment.html#defining-the-headmri-trans-using-the-gui), including a link to a video that walks you through it."
   ]
  },
  {
   "cell_type": "code",
   "execution_count": null,
   "metadata": {},
   "outputs": [],
   "source": [
    "# mne.gui.coregistration(subject='sub-02', subjects_dir=subjects_dir, inst=epochs_fname);"
   ]
  },
  {
   "cell_type": "markdown",
   "metadata": {},
   "source": [
    "### Visualizing the coregistration\n",
    "\n",
    "Since we assume the coregistration is done, we just visually check the alignment between head surface and sensors with the following code."
   ]
  },
  {
   "cell_type": "code",
   "execution_count": null,
   "metadata": {},
   "outputs": [],
   "source": [
    "trans_fname = os.path.join(data_path, 'freesurfer/sub-02/bem/sub-02-trans.fif')\n",
    "\n",
    "fig = mne.viz.plot_alignment(epochs.info, trans_fname, subject='sub-02', dig=True,\n",
    "                             subjects_dir=subjects_dir, verbose=True);"
   ]
  },
  {
   "cell_type": "markdown",
   "metadata": {},
   "source": [
    "## Compute the source space\n",
    "\n",
    "The source space defines the positions of the candidate source locations. The following code computes such a source space with an OCT-6 resolution. \n",
    "\n",
    "Note that this is a surface (not volume) source space."
   ]
  },
  {
   "cell_type": "code",
   "execution_count": null,
   "metadata": {},
   "outputs": [],
   "source": [
    "mne.set_log_level('WARNING')\n",
    "subject = 'sub-02'\n",
    "src = mne.setup_source_space(subject, spacing='oct6',\n",
    "                             subjects_dir=subjects_dir,\n",
    "                             add_dist=False)"
   ]
  },
  {
   "cell_type": "code",
   "execution_count": null,
   "metadata": {},
   "outputs": [],
   "source": [
    "src"
   ]
  },
  {
   "cell_type": "markdown",
   "metadata": {},
   "source": [
    "\n",
    "We can visualize the source space together with the head model and also together with the MEG helmet."
   ]
  },
  {
   "cell_type": "code",
   "execution_count": null,
   "metadata": {},
   "outputs": [],
   "source": [
    "%matplotlib inline\n",
    "mne.viz.plot_alignment(epochs.info, trans_fname, subject=subject, dig=False, src=src,\n",
    "                            subjects_dir=subjects_dir, verbose=True, meg=False,\n",
    "                            eeg=False);"
   ]
  },
  {
   "cell_type": "code",
   "execution_count": null,
   "metadata": {},
   "outputs": [],
   "source": [
    "mne.viz.plot_alignment(epochs.info, trans_fname, subject=subject,\n",
    "                       src=src, subjects_dir=subjects_dir, dig=True,\n",
    "                       surfaces='white', coord_frame='meg')"
   ]
  },
  {
   "cell_type": "markdown",
   "metadata": {},
   "source": [
    "<div class=\"alert alert-success\">\n",
    "    <b>EXERCISE</b>:\n",
    "     <ul>\n",
    "      <li>Query the length of src - can you explain the number you get? </li>\n",
    "    </ul>\n",
    "</div>"
   ]
  },
  {
   "cell_type": "markdown",
   "metadata": {},
   "source": [
    "## Compute the BEM solution\n",
    "\n",
    "Now we can compute the final BEM head model from the BEM surfaces. \n",
    "\n",
    "To reduce computational load, we'll only compute a _single layer BEM_ (i.e., only layer is the inner skull) that can then be used for MEG (but not EEG).\n",
    "\n",
    "Let's compute the BEM model using `mne.make_bem_solution()`, then we compute the forward solution using `mne.make_forward_solution()`."
   ]
  },
  {
   "cell_type": "code",
   "execution_count": null,
   "metadata": {},
   "outputs": [],
   "source": [
    "conductivity = (0.3,)  # for single layer\n",
    "# conductivity = (0.3, 0.006, 0.3)  # this could be used for three layers\n",
    "model = mne.make_bem_model(subject=subject, ico=4,\n",
    "                           conductivity=conductivity,\n",
    "                           subjects_dir=subjects_dir)\n",
    "bem = mne.make_bem_solution(model)"
   ]
  },
  {
   "cell_type": "markdown",
   "metadata": {},
   "source": [
    "We can write this solution to disk for later use:"
   ]
  },
  {
   "cell_type": "code",
   "execution_count": null,
   "metadata": {},
   "outputs": [],
   "source": [
    "bem_fname = os.path.join(data_path,\n",
    "    'freesurfer/sub-02/sub-02-bem.fif')\n",
    "mne.bem.write_bem_solution(bem_fname, bem, overwrite=True)"
   ]
  },
  {
   "cell_type": "markdown",
   "metadata": {},
   "source": [
    "## Compute the forward model\n",
    "\n",
    "Now we have all the ingredients to compute the forward solution. So let's do that (this might take a while!):"
   ]
  },
  {
   "cell_type": "code",
   "execution_count": null,
   "metadata": {},
   "outputs": [],
   "source": [
    "fwd = mne.make_forward_solution(epochs.info, trans=trans_fname,\n",
    "                                src=src, bem=bem,\n",
    "                                meg=True,  # include MEG channels\n",
    "                                eeg=False,  # exclude EEG channels\n",
    "                                mindist=5.0,  # ignore sources <= 5mm from inner skull\n",
    "                                n_jobs=1)  # number of jobs to run in parallel"
   ]
  },
  {
   "cell_type": "code",
   "execution_count": null,
   "metadata": {},
   "outputs": [],
   "source": [
    "leadfield = fwd['sol']['data']\n",
    "print(\"Leadfield size : %d sensors x %d dipoles\" % leadfield.shape)"
   ]
  },
  {
   "cell_type": "markdown",
   "metadata": {},
   "source": [
    "We also save the forward model for use in our source reconstruction tutorial:"
   ]
  },
  {
   "cell_type": "code",
   "execution_count": null,
   "metadata": {},
   "outputs": [],
   "source": [
    "fwd_fname = os.path.join(data_path, 'sub-02/sub-02-meg-fwd.fif')\n",
    "mne.write_forward_solution(fwd_fname, fwd, overwrite=True)"
   ]
  },
  {
   "cell_type": "markdown",
   "metadata": {},
   "source": [
    "## Bonus episode: Compute and show sensitivy maps"
   ]
  },
  {
   "cell_type": "markdown",
   "metadata": {},
   "source": [
    "Let's compute a sensitivity map for gradiometers, we asked for the dipole orientation to be fixed."
   ]
  },
  {
   "cell_type": "code",
   "execution_count": null,
   "metadata": {},
   "outputs": [],
   "source": [
    "sens_map = mne.sensitivity_map(fwd, ch_type='grad', mode='fixed')"
   ]
  },
  {
   "cell_type": "markdown",
   "metadata": {},
   "source": [
    "Let's view in 3D:"
   ]
  },
  {
   "cell_type": "code",
   "execution_count": null,
   "metadata": {},
   "outputs": [],
   "source": [
    "# enable correct backend for 3d plotting\n",
    "clim = dict(kind='percent', lims=(0.0, 50, 99), smoothing_steps=3)  # let's see single dipoles\n",
    "brain = sens_map.plot(subject=subject, time_label='GRAD sensitivity',\n",
    "                      subjects_dir=subjects_dir, clim=clim, smoothing_steps=8);\n",
    "view = 'lat'\n",
    "brain.show_view(view)\n"
   ]
  },
  {
   "cell_type": "markdown",
   "metadata": {},
   "source": [
    "<div class=\"alert alert-success\">\n",
    "    <b>EXERCISE</b>:\n",
    "     <ul>\n",
    "      <li>Compute and plot the sensitivity maps for magnetometers and compare it with the gradiometers. </li>\n",
    "      <li>Can you justify the claims that MEG is not sensitive to radial sources?</li>     \n",
    "      <li>Try changing the `mode` parameter in `mne.sensitivity_map` and see how fixed or free orientation forward operator change the pictures. Comment.</li>\n",
    "    </ul>\n",
    "</div>"
   ]
  }
 ],
 "metadata": {
  "kernelspec": {
   "display_name": "Python 3.10.8 ('mne_aix')",
   "language": "python",
   "name": "python3"
  },
  "language_info": {
   "codemirror_mode": {
    "name": "ipython",
    "version": 3
   },
   "file_extension": ".py",
   "mimetype": "text/x-python",
   "name": "python",
   "nbconvert_exporter": "python",
   "pygments_lexer": "ipython3",
   "version": "3.11.6"
  },
  "vscode": {
   "interpreter": {
    "hash": "96118219f514f0f7c28e51c58abb2aa3e9c527721ceabff83c3dd194a32d9fc1"
   }
  }
 },
 "nbformat": 4,
 "nbformat_minor": 1
}
