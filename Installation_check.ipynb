{
 "cells": [
  {
   "cell_type": "markdown",
   "metadata": {},
   "source": [
    "# Hello and welcome!\n",
    " \n",
    "With this short notebook, let's check if your installation was successful."
   ]
  },
  {
   "cell_type": "markdown",
   "metadata": {},
   "source": [
    "### Check MNE installation and dependencies\n",
    "\n",
    "Let's first see if you have MNE-Python installed. Run the code cell below. It should _not_ show you an error:"
   ]
  },
  {
   "cell_type": "code",
   "execution_count": null,
   "metadata": {},
   "outputs": [],
   "source": [
    "import mne"
   ]
  },
  {
   "cell_type": "markdown",
   "metadata": {},
   "source": [
    "Let's also check some dependencies that should have been installed alongside. Again, no errors should arise!"
   ]
  },
  {
   "cell_type": "code",
   "execution_count": null,
   "metadata": {},
   "outputs": [],
   "source": [
    "import numpy\n",
    "import scipy\n",
    "import matplotlib"
   ]
  },
  {
   "cell_type": "markdown",
   "metadata": {},
   "source": [
    "Now, if there were any errors, you could check the following things:\n",
    "\n",
    "1. If you installed MNE-Python in a conda environment, did you activate it _before_ starting your Jupyter notebook server?\n",
    "2. Or, if you are in an IDE, have you chosen the right environment?\n",
    "3. If that does not solve it, you can check this page and see if your problem is discussed: https://mne.tools/stable/install/advanced.html#advanced-setup"
   ]
  },
  {
   "cell_type": "markdown",
   "metadata": {},
   "source": [
    "### Check MNE version\n",
    "\n",
    "Let's also see if you have the right version installed. This should give back `1.5.x`."
   ]
  },
  {
   "cell_type": "code",
   "execution_count": null,
   "metadata": {},
   "outputs": [],
   "source": [
    "mne.__version__"
   ]
  },
  {
   "cell_type": "markdown",
   "metadata": {},
   "source": [
    "If this gives back a different number, you installed the wrong MNE-Python version, or you are in a wrong environment.\n",
    "\n",
    "(Or you have an advanced setup like a developer's version install ... then it's probably easiest to install everything into a new conda environment!)"
   ]
  },
  {
   "cell_type": "markdown",
   "metadata": {},
   "source": [
    "### Check for extra dependencies \n",
    "\n",
    "Lastly, we will need some extra tools for the source reconstuction lecture - that is why MNE-Python should be installed with _all dependencies_. If the following gives an error, please either add those packages, or download MNE with all dependencies."
   ]
  },
  {
   "cell_type": "code",
   "execution_count": null,
   "metadata": {},
   "outputs": [],
   "source": [
    "import nilearn\n",
    "import pyvista"
   ]
  }
 ],
 "metadata": {
  "kernelspec": {
   "display_name": "Python 3.10.8 ('mne_aix')",
   "language": "python",
   "name": "python3"
  },
  "language_info": {
   "codemirror_mode": {
    "name": "ipython",
    "version": 3
   },
   "file_extension": ".py",
   "mimetype": "text/x-python",
   "name": "python",
   "nbconvert_exporter": "python",
   "pygments_lexer": "ipython3",
   "version": "3.11.6"
  },
  "orig_nbformat": 4,
  "vscode": {
   "interpreter": {
    "hash": "96118219f514f0f7c28e51c58abb2aa3e9c527721ceabff83c3dd194a32d9fc1"
   }
  }
 },
 "nbformat": 4,
 "nbformat_minor": 2
}
