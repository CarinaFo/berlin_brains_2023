{
 "cells": [
  {
   "cell_type": "markdown",
   "metadata": {},
   "source": [
    "# Source reconstruction \n",
    "\n",
    "The aim of this lecture is to teach you how to compute and apply\n",
    "a linear inverse method. We especially look into how to compute and apply a beamformer spatial filter. Later, there is also information on how to compute a minimum norm estimation model.\n",
    "\n",
    "`\n",
    "Authors: Britta Westner, Alexandre Gramfort, Denis Engemann \n",
    "`"
   ]
  },
  {
   "cell_type": "code",
   "execution_count": null,
   "metadata": {},
   "outputs": [],
   "source": [
    "%matplotlib inline\n",
    "import matplotlib.pyplot as plt\n",
    "\n",
    "import os\n",
    "import numpy as np\n",
    "import mne\n",
    "\n",
    "mne.set_log_level('warning')\n",
    "\n",
    "# Change the following path to where the ds000117 and the extra folder are on your disk\n",
    "data_path = os.path.expanduser(\"~/Documents/teaching/2023_berlin_brains/data\")\n",
    "epochs_fname = os.path.join(data_path, 'sub-02/sub-02-epo.fif')\n"
   ]
  },
  {
   "cell_type": "markdown",
   "metadata": {},
   "source": [
    "## Read epochs and compute ERF"
   ]
  },
  {
   "cell_type": "code",
   "execution_count": null,
   "metadata": {},
   "outputs": [],
   "source": [
    "epochs = mne.read_epochs(epochs_fname)\n",
    "epochs.info"
   ]
  },
  {
   "cell_type": "code",
   "execution_count": null,
   "metadata": {},
   "outputs": [],
   "source": [
    "# since we computed our forward model for MEG only, we drop the EEG channels\n",
    "epochs.pick_types(meg=True, eeg=False)"
   ]
  },
  {
   "cell_type": "markdown",
   "metadata": {},
   "source": [
    "Let's compute the evoked responses for two conditions: _faces_  and  _scrambled_"
   ]
  },
  {
   "cell_type": "code",
   "execution_count": null,
   "metadata": {},
   "outputs": [],
   "source": [
    "evoked_face = epochs['face'].average()\n",
    "evoked_scrambled = epochs['scrambled'].average()"
   ]
  },
  {
   "cell_type": "markdown",
   "metadata": {},
   "source": [
    "Compute the contrast between the two conditions and look at it"
   ]
  },
  {
   "cell_type": "code",
   "execution_count": null,
   "metadata": {},
   "outputs": [],
   "source": [
    "evoked_contrast = mne.combine_evoked([evoked_face, evoked_scrambled], [0.5, -0.5])\n",
    "evoked_contrast.crop(-0.05, 0.25)\n",
    "evoked_contrast.plot();"
   ]
  },
  {
   "cell_type": "markdown",
   "metadata": {},
   "source": [
    "## Prepare beamforming of data\n",
    "\n",
    "\n",
    "### Compute data covariance matrix\n",
    "For beamforming, we need a **data covariance matrix**.\n",
    "\n",
    "Since we want to contrast conditions, we will compute a so-called **common spatial filter** - meaning we will use a covariance matrix that was computed on both conditions jointly. In our case, that is all the data (faces + scrambled)."
   ]
  },
  {
   "cell_type": "code",
   "execution_count": null,
   "metadata": {},
   "outputs": [],
   "source": [
    "data_cov = mne.compute_covariance(epochs, tmin=0.1, tmax=0.25,\n",
    "                                  method='empirical', rank='info')"
   ]
  },
  {
   "cell_type": "markdown",
   "metadata": {},
   "source": [
    "Let's visualize our covariance matrices."
   ]
  },
  {
   "cell_type": "code",
   "execution_count": null,
   "metadata": {},
   "outputs": [],
   "source": [
    "mne.viz.plot_cov(data_cov, info=epochs.info)"
   ]
  },
  {
   "cell_type": "markdown",
   "metadata": {},
   "source": [
    "<div class=\"alert alert-success\">\n",
    "    <b>EXERCISE</b>:\n",
    "     <ul>\n",
    "      <li>This data is severely rank-deficient. Do you know where to see this? </li>\n",
    "      <li>Can you guess why that is?</li>     \n",
    "      <li>Do you know what that means for our beamformer?</li>\n",
    "    </ul>\n",
    "</div>"
   ]
  },
  {
   "cell_type": "markdown",
   "metadata": {},
   "source": [
    "Let's keep the rank information around in a dictionary:"
   ]
  },
  {
   "cell_type": "code",
   "execution_count": null,
   "metadata": {},
   "outputs": [],
   "source": [
    "ranks = {'mag': 68, 'grad': 68}  "
   ]
  },
  {
   "cell_type": "markdown",
   "metadata": {},
   "source": [
    "### Compute noise covariance matrix\n",
    "\n",
    "Since we have two sensor types that we want to combine (gradiometers and magnetometers), we also need to compute a noise covariance matrix. That will be used for pre-whitening the data, data covariance matrix, and forward model. This is needed to take care of the different orders of magnitudes of the sensor types."
   ]
  },
  {
   "cell_type": "code",
   "execution_count": null,
   "metadata": {},
   "outputs": [],
   "source": [
    "noise_cov = mne.compute_covariance(epochs, \n",
    "                                   tmin=-.05, tmax=0.05,  # use as baseline\n",
    "                                   method='empirical', \n",
    "                                   rank='info')"
   ]
  },
  {
   "cell_type": "markdown",
   "metadata": {},
   "source": [
    "Lastly, we also need to read the forward model that we had saved!"
   ]
  },
  {
   "cell_type": "code",
   "execution_count": null,
   "metadata": {},
   "outputs": [],
   "source": [
    "fwd_fname = os.path.join(data_path,\n",
    "    'sub-02/sub-02-meg-fwd.fif')\n",
    "fwd = mne.read_forward_solution(fwd_fname)\n",
    "\n",
    "# Restrict forward solution to MEG channels only\n",
    "fwd = mne.pick_types_forward(fwd, meg=True, eeg=False)"
   ]
  },
  {
   "cell_type": "markdown",
   "metadata": {},
   "source": [
    "## Compute beamformer and apply to evoked data"
   ]
  },
  {
   "cell_type": "markdown",
   "metadata": {},
   "source": [
    "Now we can compute the spatial filter (beamformer):"
   ]
  },
  {
   "cell_type": "code",
   "execution_count": null,
   "metadata": {},
   "outputs": [],
   "source": [
    "from mne.beamformer import make_lcmv, apply_lcmv"
   ]
  },
  {
   "cell_type": "code",
   "execution_count": null,
   "metadata": {},
   "outputs": [],
   "source": [
    "filters = make_lcmv(\n",
    "    epochs.info, fwd,\n",
    "    data_cov=data_cov, noise_cov=noise_cov,\n",
    "    pick_ori='max-power', rank=ranks\n",
    ")"
   ]
  },
  {
   "cell_type": "markdown",
   "metadata": {},
   "source": [
    "We can apply the filter to one of our conditions to see the activation following picture presentation:"
   ]
  },
  {
   "cell_type": "code",
   "execution_count": null,
   "metadata": {},
   "outputs": [],
   "source": [
    "stc_face = apply_lcmv(evoked=evoked_face, filters=filters)"
   ]
  },
  {
   "cell_type": "markdown",
   "metadata": {},
   "source": [
    "We can plot the brain and time course using `stc_face.plot()`. You can explore the source reconstruction, e.g. by watching the activation as a movie. \n",
    "\n",
    "We crop the `stc` object in time."
   ]
  },
  {
   "cell_type": "code",
   "execution_count": null,
   "metadata": {},
   "outputs": [],
   "source": [
    "subjects_dir = os.path.join(data_path, 'freesurfer')\n",
    "stc_face.crop(-0.05, 0.25).plot(subjects_dir=subjects_dir, subject='sub-02', hemi='both')"
   ]
  },
  {
   "cell_type": "markdown",
   "metadata": {},
   "source": [
    "<div class=\"alert alert-success\">\n",
    "    <b>EXERCISE</b>:\n",
    "     <ul>\n",
    "      <li>Discuss the reconstruction: how does the activity spread?</li>\n",
    "      <li> Do you know what do the negative and positive activations mean? </li>\n",
    "    </ul>\n",
    "</div>"
   ]
  },
  {
   "cell_type": "markdown",
   "metadata": {},
   "source": [
    "Let's apply the same filter to our other condition. We can then subtract the activity from each other."
   ]
  },
  {
   "cell_type": "code",
   "execution_count": null,
   "metadata": {},
   "outputs": [],
   "source": [
    "%matplotlib qt\n",
    "stc_scrambled = apply_lcmv(evoked=evoked_scrambled, filters=filters)\n",
    "stc_scrambled.crop(-0.05, 0.25)"
   ]
  },
  {
   "cell_type": "code",
   "execution_count": null,
   "metadata": {},
   "outputs": [],
   "source": [
    "stc_diff = stc_face.copy()\n",
    "stc_diff.data = np.abs(stc_face.data) - np.abs(stc_scrambled.data)\n",
    "\n",
    "stc_diff.plot(subjects_dir=subjects_dir, subject='sub-02', hemi='both')"
   ]
  },
  {
   "cell_type": "markdown",
   "metadata": {},
   "source": [
    "<div class=\"alert alert-success\">\n",
    "    <b>EXERCISE</b>:\n",
    "     <ul>\n",
    "      <li>Do the negative and positive activations mean the same as before?  </li>\n",
    "      <li>Can you save a screenshot of the activity at 150 ms?  </li>\n",
    "    </ul>\n",
    "</div>"
   ]
  },
  {
   "cell_type": "markdown",
   "metadata": {},
   "source": [
    "## Bonus epsiode: Minimum norm estimation (MNE)\n",
    "\n",
    "### Prepare the MNE solution\n",
    "\n",
    "To compute our inverse operator for minimum norm estimation, we need a noise covariance matrix. We could just use the one we already computed, but let's try something new: we compute the covariance matrix with different methods and let the algorithm choose the best one!\n",
    "\n",
    "For more information, check out:\n",
    "\n",
    "`Engemann DA & Gramfort A (2015): Automated model selection in covariance estimation and spatial whitening of MEG and EEG signals, NeuroImage. `"
   ]
  },
  {
   "cell_type": "code",
   "execution_count": null,
   "metadata": {},
   "outputs": [],
   "source": [
    "noise_cov = mne.compute_covariance(epochs, tmax=0.05,\n",
    "                                   method=['shrunk', 'empirical'],\n",
    "                                   rank='info')\n",
    "noise_cov['method']"
   ]
  },
  {
   "cell_type": "markdown",
   "metadata": {},
   "source": [
    "We can visualize the whitening of the evoked data, using this noise covariance matrix:"
   ]
  },
  {
   "cell_type": "code",
   "execution_count": null,
   "metadata": {},
   "outputs": [],
   "source": [
    "%matplotlib inline\n",
    "evoked_contrast.plot_white(noise_cov);"
   ]
  },
  {
   "cell_type": "markdown",
   "metadata": {},
   "source": [
    "For the MNE source solution, we want to use a fixed forward operator:"
   ]
  },
  {
   "cell_type": "code",
   "execution_count": null,
   "metadata": {},
   "outputs": [],
   "source": [
    "fwd_fixed = mne.convert_forward_solution(fwd, surf_ori=True)"
   ]
  },
  {
   "cell_type": "markdown",
   "metadata": {},
   "source": [
    "### Compute MNE inverse operator and apply to evoked data"
   ]
  },
  {
   "cell_type": "code",
   "execution_count": null,
   "metadata": {},
   "outputs": [],
   "source": [
    "from mne.minimum_norm import (make_inverse_operator, apply_inverse)"
   ]
  },
  {
   "cell_type": "markdown",
   "metadata": {},
   "source": [
    "Minimum norm inverse models are independant\n",
    "from the data (as they use just the noise covariance but not a data covariance matrix) and can therefore be\n",
    "precomputed and applied to the data at a later stage.\n",
    "\n",
    "We do not need to take special care of our conditions here."
   ]
  },
  {
   "cell_type": "code",
   "execution_count": null,
   "metadata": {},
   "outputs": [],
   "source": [
    "info = evoked_contrast.info\n",
    "inverse_operator = make_inverse_operator(info, fwd_fixed, noise_cov,\n",
    "                                         loose=0.2, depth=0.8)"
   ]
  },
  {
   "cell_type": "markdown",
   "metadata": {},
   "source": [
    "Now let's apply this inverse operator to our evoked contrast:"
   ]
  },
  {
   "cell_type": "code",
   "execution_count": null,
   "metadata": {},
   "outputs": [],
   "source": [
    "method = \"dSPM\"\n",
    "snr = 3.\n",
    "lambda2 = 1. / snr ** 2  # regularization\n",
    "stc = apply_inverse(evoked_contrast, inverse_operator, lambda2,\n",
    "                    method=method, pick_ori=None)\n",
    "print(stc)"
   ]
  },
  {
   "cell_type": "markdown",
   "metadata": {},
   "source": [
    "Let us plot the results just as before with the beamformer:"
   ]
  },
  {
   "cell_type": "code",
   "execution_count": null,
   "metadata": {},
   "outputs": [],
   "source": [
    "subjects_dir = os.path.join(data_path, 'freesurfer')\n",
    "stc.plot(hemi='both', subjects_dir=subjects_dir, subject='sub-02')"
   ]
  },
  {
   "cell_type": "markdown",
   "metadata": {},
   "source": [
    "<div class=\"alert alert-success\">\n",
    "    <b>EXERCISE</b>:\n",
    "     <ul>\n",
    "      <li>Compare the MNE reconstruction to the beamformer. What differences can you see? Can you explain them? </li>     \n",
    "      <li>Run sLORETA on the same data and compare source localizations. </li>\n",
    "    </ul>\n",
    "</div>\n"
   ]
  }
 ],
 "metadata": {
  "kernelspec": {
   "display_name": "Python 3.10.8 ('mne_aix')",
   "language": "python",
   "name": "python3"
  },
  "language_info": {
   "codemirror_mode": {
    "name": "ipython",
    "version": 3
   },
   "file_extension": ".py",
   "mimetype": "text/x-python",
   "name": "python",
   "nbconvert_exporter": "python",
   "pygments_lexer": "ipython3",
   "version": "3.11.6"
  },
  "vscode": {
   "interpreter": {
    "hash": "96118219f514f0f7c28e51c58abb2aa3e9c527721ceabff83c3dd194a32d9fc1"
   }
  }
 },
 "nbformat": 4,
 "nbformat_minor": 1
}
