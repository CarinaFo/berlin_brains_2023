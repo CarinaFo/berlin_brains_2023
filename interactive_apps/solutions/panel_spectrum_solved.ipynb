{
 "cells": [
  {
   "attachments": {},
   "cell_type": "markdown",
   "metadata": {},
   "source": [
    "# Interactive apps with Panel\n",
    "\n",
    "Solution to the exercises from `panel_spectrum.ipynb`\n",
    "\n",
    "`Author: Nikolai Kapralov`"
   ]
  },
  {
   "cell_type": "code",
   "execution_count": null,
   "metadata": {},
   "outputs": [],
   "source": [
    "import mne\n",
    "import matplotlib.pyplot as plt\n",
    "import panel as pn\n",
    "\n",
    "from mne_bids import print_dir_tree\n",
    "from pathlib import Path\n",
    "\n",
    "pn.extension(sizing_mode='stretch_width',\n",
    "             theme='default')"
   ]
  },
  {
   "attachments": {},
   "cell_type": "markdown",
   "metadata": {},
   "source": [
    "### Interactivity and Widgets\n",
    "\n",
    "Source: https://panel.holoviz.org/how_to/interactivity/index.html\n",
    "\n",
    "For the minimal example, we can use a function that creates a string by repeating a provided symbol given number of times. We will bind its arguments to UI widgets and make the function interactive!"
   ]
  },
  {
   "cell_type": "code",
   "execution_count": null,
   "metadata": {},
   "outputs": [],
   "source": [
    "def string_creator(symbol, number):\n",
    "    return symbol * number"
   ]
  },
  {
   "cell_type": "code",
   "execution_count": null,
   "metadata": {},
   "outputs": [],
   "source": [
    "string_creator('🌊', 5)"
   ]
  },
  {
   "attachments": {},
   "cell_type": "markdown",
   "metadata": {},
   "source": [
    "Now we need to create two widgets corresponding to the arguments of the function. Overall, there are lots of different widgets ([listed here](https://panel.holoviz.org/reference/index.html#widgets)), and often there are multiple options to choose from depending on the context. Here and in the next examples, we will use select/drop-down for choosing between several _textual_ options and slider for setting the _numeric_ values.\n",
    "\n",
    "The core parameter of many widgets is `value`, which contains the current value and also allows setting the initial one. Other parameters may include display name (`name`) or widget-specific input constraints (e.g., `start` and `end` for the slider range or `options` to select from).\n",
    "\n",
    "Below are the widgets that are helpful for this minimal example:"
   ]
  },
  {
   "cell_type": "code",
   "execution_count": null,
   "metadata": {},
   "outputs": [],
   "source": [
    "slider = pn.widgets.IntSlider(name='Length', value=5, start=1, end=10)\n",
    "slider"
   ]
  },
  {
   "attachments": {},
   "cell_type": "markdown",
   "metadata": {},
   "source": [
    "Change the position of slider and re-run the cell below to see the updated value:"
   ]
  },
  {
   "cell_type": "code",
   "execution_count": null,
   "metadata": {},
   "outputs": [],
   "source": [
    "slider.value"
   ]
  },
  {
   "cell_type": "code",
   "execution_count": null,
   "metadata": {},
   "outputs": [],
   "source": [
    "select = pn.widgets.Select(name='Symbol', options=['🌊', '🐘'])\n",
    "select"
   ]
  },
  {
   "cell_type": "code",
   "execution_count": null,
   "metadata": {},
   "outputs": [],
   "source": [
    "select.value"
   ]
  },
  {
   "attachments": {},
   "cell_type": "markdown",
   "metadata": {},
   "source": [
    "The next essential step is to combine (bind) together the input values from the widgets with the function that generates the output. The function `bind` serve for this purpose.\n",
    "\n",
    "It accepts the function as the first argument and several objects that will be provided to this function (the number of provided objects should match the number of arguments). In case of widgets `widget.value` will be automatically passed to the function as in the example below:\n",
    "\n",
    "```\n",
    "def my_fun(arg1, arg2):\n",
    "    pass\n",
    "\n",
    "pn.bind(my_fun, arg1=obj1, arg2=widget2)\n",
    "# obj1 will be passed as-is\n",
    "# widget2.value will be passed as arg2\n",
    "```"
   ]
  },
  {
   "cell_type": "code",
   "execution_count": null,
   "metadata": {},
   "outputs": [],
   "source": [
    "result = pn.bind(string_creator, select, slider)"
   ]
  },
  {
   "attachments": {},
   "cell_type": "markdown",
   "metadata": {},
   "source": [
    "Now we can arrange the input (slider, drop-down) and output (text) elements in a layout using row and column wrapper:"
   ]
  },
  {
   "cell_type": "code",
   "execution_count": null,
   "metadata": {},
   "outputs": [],
   "source": [
    "toy_panel = pn.Column('## Minimal Example', \n",
    "    pn.Row(slider, select), \n",
    "    pn.Row('Updated on every detected change:', result), \n",
    ")"
   ]
  },
  {
   "attachments": {},
   "cell_type": "markdown",
   "metadata": {},
   "source": [
    "The last step is to serve the panel. Here comes interactivity:"
   ]
  },
  {
   "cell_type": "code",
   "execution_count": null,
   "metadata": {},
   "outputs": [],
   "source": [
    "toy_panel.servable()"
   ]
  },
  {
   "attachments": {},
   "cell_type": "markdown",
   "metadata": {},
   "source": [
    "As you may have noticed, the output is updated all the time - even if you have not released the mouse button yet. While it works fine in this toy example, running more complex computations may take more time and make the app freeze. To avoid this problem, one option is to use `widget.param.value_throttled`, which get updated only when the user releases the mouse button."
   ]
  },
  {
   "cell_type": "code",
   "execution_count": null,
   "metadata": {},
   "outputs": [],
   "source": [
    "result_throttled = pn.bind(string_creator, select, \n",
    "                           slider.param.value_throttled)\n",
    "\n",
    "pn.Column('## Minimal Example', \n",
    "          pn.Row(slider, select), \n",
    "          pn.Row('Updated only when the mouse button is released:', result_throttled), \n",
    ").servable()  # notice the chain call"
   ]
  },
  {
   "attachments": {},
   "cell_type": "markdown",
   "metadata": {},
   "source": [
    "The throttled option will come in handy for the coming MNE-based analysis."
   ]
  },
  {
   "attachments": {},
   "cell_type": "markdown",
   "metadata": {},
   "source": [
    "**Exercise:**\n",
    "\n",
    "1. Add one or more widgets to the app\n",
    "2. Update the `string_creator` function to use the value from the new widget somehow\n",
    "\n",
    "Here is the list of widgets available in Panel:\n",
    "https://panel.holoviz.org/reference/index.html#widgets\n",
    "\n",
    "Some ideas (feel free to follow your own ones):\n",
    "\n",
    "- TextInput: add custom prefix in the beginning of the string\n",
    "- IntRangeSlider: generate a string of random length in the specified range"
   ]
  },
  {
   "attachments": {},
   "cell_type": "markdown",
   "metadata": {},
   "source": [
    "**Solution**:"
   ]
  },
  {
   "attachments": {},
   "cell_type": "markdown",
   "metadata": {},
   "source": [
    "Function:"
   ]
  },
  {
   "cell_type": "code",
   "execution_count": null,
   "metadata": {},
   "outputs": [],
   "source": [
    "import random\n",
    "\n",
    "def string_creator_extended(symbol, length_range, prefix):\n",
    "    result = symbol * random.randint(length_range[0], length_range[1]) # or *length_range\n",
    "    if prefix:\n",
    "        return f'{prefix}: {result}'\n",
    "    \n",
    "    return result"
   ]
  },
  {
   "attachments": {},
   "cell_type": "markdown",
   "metadata": {},
   "source": [
    "Widgets:"
   ]
  },
  {
   "cell_type": "code",
   "execution_count": null,
   "metadata": {},
   "outputs": [],
   "source": [
    "select = pn.widgets.Select(name='Symbol', options=['🌊', '🐘'])\n",
    "length_range = pn.widgets.IntRangeSlider(name='Length limits', \n",
    "                                         value=(2, 7), start=1, end=15, step=1)\n",
    "prefix = pn.widgets.TextInput(name='Prefix')"
   ]
  },
  {
   "attachments": {},
   "cell_type": "markdown",
   "metadata": {},
   "source": [
    "Panel:"
   ]
  },
  {
   "cell_type": "code",
   "execution_count": null,
   "metadata": {},
   "outputs": [],
   "source": [
    "result_extended = pn.bind(string_creator_extended, select, \n",
    "                          length_range.param.value_throttled, prefix)\n",
    "\n",
    "pn.Column('## Minimal Example', \n",
    "          pn.Row(prefix, select, length_range), \n",
    "          pn.Row('Updated only when the mouse button is released:', result_extended), \n",
    ").servable()  # notice the chain call"
   ]
  },
  {
   "attachments": {},
   "cell_type": "markdown",
   "metadata": {},
   "source": [
    "### Dataset"
   ]
  },
  {
   "attachments": {},
   "cell_type": "markdown",
   "metadata": {},
   "source": [
    "Now let's move on to the MNE-based analysis. First, we need to set up the location of the dataset in the variable `path_to_data` below."
   ]
  },
  {
   "cell_type": "code",
   "execution_count": null,
   "metadata": {},
   "outputs": [],
   "source": [
    "path_to_data = None\n",
    "if path_to_data is None:\n",
    "    raise RuntimeError(\"Please specify the full path to the dataset in the `path_to_data` variable\")"
   ]
  },
  {
   "attachments": {},
   "cell_type": "markdown",
   "metadata": {},
   "source": [
    "If the correct path is provided, the command below should print the list of files and folders contained in the dataset (first level only, e.g., `sub-XX` folders)."
   ]
  },
  {
   "cell_type": "code",
   "execution_count": null,
   "metadata": {},
   "outputs": [],
   "source": [
    "print_dir_tree(path_to_data, max_depth=1)"
   ]
  },
  {
   "attachments": {},
   "cell_type": "markdown",
   "metadata": {},
   "source": [
    "### Loading and Exploring the Data"
   ]
  },
  {
   "attachments": {},
   "cell_type": "markdown",
   "metadata": {},
   "source": [
    "Now let's have a quick look at the data before proceeding with the interactive part."
   ]
  },
  {
   "cell_type": "code",
   "execution_count": null,
   "metadata": {},
   "outputs": [],
   "source": [
    "path_to_file = Path(path_to_data) / 'sub-01' / 'sub-01-raw.fif'\n",
    "raw = mne.io.read_raw_fif(path_to_file)"
   ]
  },
  {
   "cell_type": "code",
   "execution_count": null,
   "metadata": {},
   "outputs": [],
   "source": [
    "raw.info"
   ]
  },
  {
   "cell_type": "code",
   "execution_count": null,
   "metadata": {},
   "outputs": [],
   "source": [
    "%matplotlib qt\n",
    "raw.plot();"
   ]
  },
  {
   "attachments": {},
   "cell_type": "markdown",
   "metadata": {},
   "source": [
    "The dataset contains MEG, EEG, and ECG recordings, which we will use to calculate the spectra. Let's get the indices of these channels."
   ]
  },
  {
   "cell_type": "code",
   "execution_count": null,
   "metadata": {},
   "outputs": [],
   "source": [
    "meeg_idx = mne.pick_types(raw.info, meg=True, eeg=True)\n",
    "meeg_ch_names = mne.pick_info(raw.info, meeg_idx)['ch_names']"
   ]
  },
  {
   "attachments": {},
   "cell_type": "markdown",
   "metadata": {},
   "source": [
    "### Computing the power spectral density (PSD) using Welch and multitaper methods"
   ]
  },
  {
   "attachments": {},
   "cell_type": "markdown",
   "metadata": {},
   "source": [
    "Computing the PSD in MNE-Python is as easy as this:"
   ]
  },
  {
   "cell_type": "code",
   "execution_count": null,
   "metadata": {},
   "outputs": [],
   "source": [
    "%matplotlib qt\n",
    "_ = raw.compute_psd().plot();"
   ]
  },
  {
   "attachments": {},
   "cell_type": "markdown",
   "metadata": {},
   "source": [
    "However, the computation of the spectra is actually based on several parameters that can affect the estimation, and default values are used when no arguments are provided. Let's create an app the would allow us to explore the influence of these parameters on the estimated spectra in an interactive way.\n",
    "\n",
    "Here is the list of parameters we would like to explore:\n",
    "\n",
    " * `channel` - select the channel to analyze (`pn.widgets.Select`)\n",
    " * `fmin`, `fmax` - frequency range to use for estimation of the spectra (`pn.widgets.RangeSlider`)\n",
    " * `tmin`, `tmax` - time range to use for estimation of the spectra (`pn.widgets.RangeSlider`)\n",
    "\n",
    "In addition, MNE provides two methods for calculation of the spectra - Welch and multitaper - with a set of method-specific parameters, which we would also add (as an exercise).\n",
    "\n",
    "Let's define the input widgets:"
   ]
  },
  {
   "cell_type": "code",
   "execution_count": null,
   "metadata": {},
   "outputs": [],
   "source": [
    "# Common parameters\n",
    "channel_select = pn.widgets.Select(name='Channel', options=meeg_ch_names)\n",
    "time_slider = pn.widgets.RangeSlider(name='Time Range (s)', \n",
    "                                     start=0, end=len(raw)/raw.info['sfreq'], step=10)\n",
    "freq_slider = pn.widgets.RangeSlider(name='Frequency Range (Hz)', value=(0, 100),\n",
    "                                     start=0, end=raw.info['sfreq'] // 2, step=5)\n",
    "\n",
    "# Welch parameters (see the exercise at the end of the notebook)\n",
    "n_fft_slider = pn.widgets.IntSlider(name='n_fft', value=int(raw.info['sfreq']),\n",
    "                                    start=100, end=5000, step=100)\n",
    "n_overlap_slider = pn.widgets.IntSlider(name='n_overlap', value=0,\n",
    "                                        start=0, end=5000, step=100)\n",
    "window_select = pn.widgets.Select(name='Window',\n",
    "                                  options=['hamming', 'triang', 'hann'])\n",
    "\n",
    "# Multitaper parameters (see the exercise at the end of the notebook)\n",
    "normalization_select = pn.widgets.Select(name='Normalization',\n",
    "                                         options=['full', 'length'])\n",
    "bandwidth_slider = pn.widgets.FloatSlider(name='Half-Bandwidth', value=4,\n",
    "                                          start=1, end=16, step=1)\n",
    "low_bias_checkbox = pn.widgets.Checkbox(name='Low bias',\n",
    "                                        value=True)"
   ]
  },
  {
   "attachments": {},
   "cell_type": "markdown",
   "metadata": {},
   "source": [
    "Two functions below act as wrappers around `raw.compute_psd.plot` with different parameters and return Matplotlib figures (spectra plots). These figures will be included in the panel side-by-side to compare Welch (`plot_welch_with_params`) and multitaper (`plot_taper_with_params`) methods."
   ]
  },
  {
   "cell_type": "code",
   "execution_count": null,
   "metadata": {},
   "outputs": [],
   "source": [
    "def plot_welch_with_params(raw, picks, f_range, t_range, \n",
    "                           n_fft, n_overlap, window):\n",
    "    fmin, fmax = f_range\n",
    "    tmin, tmax = t_range\n",
    "\n",
    "    fig, ax = plt.subplots()\n",
    "    fig = raw.compute_psd(picks=picks, method='welch',\n",
    "                          fmin=fmin, fmax=fmax, \n",
    "                          tmin=tmin, tmax=tmax,\n",
    "                          n_fft=n_fft,\n",
    "                          n_overlap=n_overlap,\n",
    "                          window=window)\\\n",
    "             .plot(axes=ax, show=False);\n",
    "    ax.set_title('Welch')\n",
    "\n",
    "    plt.close(fig)\n",
    "    return fig"
   ]
  },
  {
   "cell_type": "code",
   "execution_count": null,
   "metadata": {},
   "outputs": [],
   "source": [
    "def plot_taper_with_params(raw, picks, f_range, t_range, \n",
    "                           normalization, half_bandwidth, low_bias):\n",
    "    fmin, fmax = f_range\n",
    "    tmin, tmax = t_range\n",
    "\n",
    "    bandwidth = half_bandwidth * 2 / (tmax - tmin)\n",
    "\n",
    "    fig, ax = plt.subplots()\n",
    "    fig = raw.compute_psd(picks=picks, method='multitaper',\n",
    "                          fmin=fmin, fmax=fmax, \n",
    "                          tmin=tmin, tmax=tmax,\n",
    "                          normalization=normalization,\n",
    "                          bandwidth=bandwidth,\n",
    "                          low_bias=low_bias)\\\n",
    "             .plot(axes=ax, show=False);\n",
    "    ax.set_title('Multitaper')\n",
    "\n",
    "    plt.close(fig)\n",
    "    return fig"
   ]
  },
  {
   "attachments": {},
   "cell_type": "markdown",
   "metadata": {},
   "source": [
    "Now let's bind input and output, arrange all the elements in a panel, and serve it:"
   ]
  },
  {
   "cell_type": "code",
   "execution_count": null,
   "metadata": {},
   "outputs": [],
   "source": [
    "%matplotlib inline\n",
    "mne.set_log_level('warning')\n",
    "\n",
    "p1 = pn.bind(plot_welch_with_params, \n",
    "             raw=raw, \n",
    "             picks=channel_select, \n",
    "             f_range=freq_slider.param.value_throttled, \n",
    "             t_range=time_slider.param.value_throttled,\n",
    "             n_fft=n_fft_slider.param.value_throttled,\n",
    "             n_overlap=n_overlap_slider.param.value_throttled,\n",
    "             window=window_select);\n",
    "p2 = pn.bind(plot_taper_with_params, \n",
    "             raw=raw, \n",
    "             picks=channel_select, \n",
    "             f_range=freq_slider.param.value_throttled, \n",
    "             t_range=time_slider.param.value_throttled,\n",
    "             normalization=normalization_select,\n",
    "             half_bandwidth=bandwidth_slider.param.value_throttled,\n",
    "             low_bias=low_bias_checkbox);\n",
    "\n",
    "pn.Column(\n",
    "    pn.Row('### PSD: Welch vs Multitaper'),\n",
    "    pn.Row('**Common:**', channel_select, time_slider, freq_slider),\n",
    "    pn.Row('**Welch:**', n_fft_slider, n_overlap_slider, window_select),\n",
    "    pn.Row('**Multitaper:**', normalization_select, bandwidth_slider, low_bias_checkbox),\n",
    "    pn.Row(pn.pane.Matplotlib(p1, tight=True),\n",
    "           pn.pane.Matplotlib(p2, tight=True))\n",
    ").servable()"
   ]
  },
  {
   "attachments": {},
   "cell_type": "markdown",
   "metadata": {},
   "source": [
    "**Exercise:**\n",
    "\n",
    "1. Add Welch-specific parameters to the app:\n",
    " * `n_fft` - the size of data segments (in samples) used for FFT\n",
    " * `n_overlap` - the overlap of data segments (in samples)\n",
    " * `window` - the type of window applied to the data\n",
    "\n",
    "2. Add multitaper-specific parameters to the app:\n",
    " * `normalization` - how the spectra values are normalized\n",
    " * `bandwidth` - average neighboring `bandwidth` frequency bins\n",
    " * `low_bias` - whether estimates (tapers) with high bias should be dropped"
   ]
  }
 ],
 "metadata": {
  "kernelspec": {
   "display_name": "berlin-brains-2023",
   "language": "python",
   "name": "python3"
  },
  "language_info": {
   "codemirror_mode": {
    "name": "ipython",
    "version": 3
   },
   "file_extension": ".py",
   "mimetype": "text/x-python",
   "name": "python",
   "nbconvert_exporter": "python",
   "pygments_lexer": "ipython3",
   "version": "3.11.5"
  },
  "orig_nbformat": 4
 },
 "nbformat": 4,
 "nbformat_minor": 2
}
