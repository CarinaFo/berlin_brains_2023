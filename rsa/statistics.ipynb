{
 "cells": [
  {
   "cell_type": "markdown",
   "id": "7f34fb2c-5e4b-4942-bc8c-26a37eb357de",
   "metadata": {},
   "source": [
    "# Statistical analysis of group-level RSA results\n",
    "<img src=\"images/expert.png\" width=\"220\" style=\"float: right\">\n",
    "\n",
    "In this notebook, we'll dive into cluster-based permutation testing, as described in [Maris & Oostenveld, 2007](https://doi.org/10.1016/j.jneumeth.2007.03.024).\n",
    "While this statistical technique is becoming the standard \"go-to\" method for testing for significant differences between experimental conditions in MEG and EEG studies, applying the technique correctly is not always straightforward and there are a lot of caveats to beware of.\n",
    "On top of this, the API of MNE-Python regarding these tests could use a bit more work.\n",
    "(If you are inspired by today's workshop, could you [lend a hand](https://github.com/mne-tools/mne-python/issues/4859) with this? ❤)\n",
    "\n",
    "## The purpose of cluster-based permutation testing\n",
    "\n",
    "When exploring differences between conditions, a good first step is to perform separate t-tests for each channel/sourcepoint/timepoint and visualize them.\n",
    "While this gives you a good feel of where and when significant differences may occur, one cannot always make solid statistical inferences based on these values.\n",
    "Cluster-based permutation testing is designed to solve two problems that arise when using mass t-tests:\n",
    "\n",
    " 1. The multiple-comparisons problem: solved by using a cluster-based statistic\n",
    " 2. The non-Gaussian data problem: solved by using random permutations\n",
    "\n",
    "The solutions to these problems come at a hefty price though: the test can only infer the data is different between conditions. **The test can not be used to infer when and where there is a significant difference.**\n",
    "Researchers get this wrong a lot.\n",
    "The Fieldtrip manual even has a [dedicated page about this](https://www.fieldtriptoolbox.org/faq/how_not_to_interpret_results_from_a_cluster-based_permutation_test) which I encourage you to read.\n",
    "\n",
    "Now that I've scared you enough, let's do this!\n",
    "\n",
    "<div class=\"alert alert-success\">\n",
    "<b>EXERCISE</b>:\n",
    "    \n",
    "In the cell below, update the `data_path` variable to point to where you have extracted the [`BerlinBrains2023DataPackage.zip`](https://drive.google.com/file/d/1etefiAIRG6CMBeU91Fu2CTqM5KT9Ng_Z/view?usp=drive_link) file to.\n",
    "</div>"
   ]
  },
  {
   "cell_type": "code",
   "execution_count": null,
   "id": "1a380fc5-bd17-4688-b2a3-e61b2b89fecd",
   "metadata": {},
   "outputs": [],
   "source": [
    "%matplotlib inline\n",
    "import matplotlib as mpl\n",
    "mpl.rcParams['figure.dpi'] = 90  # Tune this to make figures bigger/smaller\n",
    "\n",
    "import mne\n",
    "mne.set_log_level(\"warning\")  # Make the output less verbose\n",
    "\n",
    "# Set this to where you've extracted `data.zip` to\n",
    "data_path = \"../data\""
   ]
  },
  {
   "cell_type": "markdown",
   "id": "a0a29962-d29c-4c2e-8552-c7d0a4f93f83",
   "metadata": {},
   "source": [
    "## Cluster permutation testing on a single channel\n",
    "\n",
    "In the classic EEG event-related potential (ERP) literature, statistical testing between two conditions was done by first identifying one or more sensors and stretches of time that seem likely to hold a significant difference, then averaging the signal across those sensors and time region, followed by a single t-test or ANOVA test.\n",
    "Time would tell whether the chosen channels and time region would replicate across studies.\n",
    "\n",
    "Let's do this for our sensor-level RSA result that we obtained in the first notebook.\n",
    "I've ran the same analysis across multiple subjects and placed it in the `group_analysis` subfolder of the data package you've downloaded.\n",
    "Executing the call below will load them."
   ]
  },
  {
   "cell_type": "code",
   "execution_count": null,
   "id": "afb5e19b-ae38-42a2-8794-df8fc42f01e9",
   "metadata": {},
   "outputs": [],
   "source": [
    "import mne\n",
    "subjects = [2, 3, 4, 6, 7, 8, 9, 10, 11, 12, 13, 14, 15, 17, 18, 19]\n",
    "\n",
    "# RSA against the RDM based on the pixels in each image\n",
    "rsa_pixels = [mne.read_evokeds(f\"{data_path}/group_analysis/sub-{subject:02d}-rsa-ave.fif\", condition=\"pixels\")\n",
    "              for subject in subjects]\n",
    "\n",
    "# RSA against the RDM based on the FaceNet embeddings of each image\n",
    "rsa_facenet = [mne.read_evokeds(f\"{data_path}/group_analysis/sub-{subject:02d}-rsa-ave.fif\", condition=\"facenet\")\n",
    "               for subject in subjects]"
   ]
  },
  {
   "cell_type": "markdown",
   "id": "76399ec6-d979-4a03-8ffa-bea06397babf",
   "metadata": {},
   "source": [
    "`rsa_pixels` and `rsa_facenet` are now lists of [`mne.Evoked`](https://mne.tools/stable/generated/mne.Evoked.html) objects.\n",
    "Here are the first 5 of them:"
   ]
  },
  {
   "cell_type": "code",
   "execution_count": null,
   "id": "d37af923-4e19-4d32-8bc7-827fed202b50",
   "metadata": {},
   "outputs": [],
   "source": [
    "rsa_pixels[:5]"
   ]
  },
  {
   "cell_type": "markdown",
   "id": "f42f8bb2-de0d-4030-8ac7-ba96d95dd0e4",
   "metadata": {},
   "source": [
    "Every `Evoked` object has data defined for a single channel, for the time region 0 – 0.9 seconds.\n",
    "The cell below compares the grand averages for pixels versus FaceNet and gives the 95% confidence intervals for the means:"
   ]
  },
  {
   "cell_type": "code",
   "execution_count": null,
   "id": "a6d49d75-1b89-4f8e-9342-3a37f93f233d",
   "metadata": {},
   "outputs": [],
   "source": [
    "mne.viz.plot_compare_evokeds(dict(pixels=rsa_pixels, facenet=rsa_facenet), picks=0, show_sensors=0, ylim=dict(misc=[-0.02, 0.15]))"
   ]
  },
  {
   "cell_type": "markdown",
   "id": "377c6112-d403-4180-941b-b2156a86a08f",
   "metadata": {},
   "source": [
    "Based on the above plot, there might be a significant difference very early on: 0 – 0.16 seconds.\n",
    "\n",
    "Your first task in this notebook will be to perform a t-test for this region.\n",
    "I'll set everything up in the cell below, then you get to do the honors and write the line that performs the actual test."
   ]
  },
  {
   "cell_type": "code",
   "execution_count": null,
   "id": "5f81c2b8-766e-46af-924e-4b6b6d80bb38",
   "metadata": {},
   "outputs": [],
   "source": [
    "import numpy as np\n",
    "\n",
    "# Time region we are interested in\n",
    "tmin, tmax = 0, 0.16  # seconds\n",
    "\n",
    "# Convert tmin/tmax to sample indices\n",
    "tmin, tmax = np.searchsorted(rsa_pixels[0].times, [tmin, tmax])\n",
    "\n",
    "# Construct arrays with the data of all participants combined\n",
    "data_pixels = np.array([ev.data[0] for ev in rsa_pixels])    # shape: 16 x 199 (participants x timepoints)\n",
    "data_facenet = np.array([ev.data[0] for ev in rsa_facenet])  # shape: 16 x 199 (participants x timepoints)"
   ]
  },
  {
   "cell_type": "markdown",
   "id": "f7fc06fe-40a3-4874-9318-5b701061f60e",
   "metadata": {},
   "source": [
    "<div class=\"alert alert-success\">\n",
    "<b>EXERCISE</b>:\n",
    "    \n",
    "Go ahead and write you call to [`scipy.stats.ttest_rel`](https://docs.scipy.org/doc/scipy/reference/generated/scipy.stats.ttest_rel.html) below, keeping the following in mind:\n",
    "\n",
    "- We are interested in a paired t-test, which is what `ttest_rel` computes.\n",
    "- The function returns both the t-value and the p-value\n",
    "- We want a *single* t-value and p-value for the mean RSA scores across the entire time region\n",
    "- The data for the two conditions can be found in `data_pixels` and `data_facenet`. Both arrays are of shape 16 x 199 (participants x timepoints)\n",
    "- The time indices of the beginning and end times we are interested in are in `tmin` and `tmax` respectively.\n",
    "</div>"
   ]
  },
  {
   "cell_type": "code",
   "execution_count": null,
   "id": "3db497e8-059d-45af-888d-93957b1acb01",
   "metadata": {},
   "outputs": [],
   "source": [
    "from scipy.stats import ttest_rel\n",
    "tval, pval = # write you call to ttest_rel() here\n",
    "tval, pval = # write you call to ttest_rel() here"
   ]
  },
  {
   "cell_type": "markdown",
   "id": "8fb9bb6b-01ad-448d-8649-0b3b0df4b317",
   "metadata": {},
   "source": [
    "Executing the cell below will check your answer:"
   ]
  },
  {
   "cell_type": "code",
   "execution_count": null,
   "id": "57912bc5-7ce4-4ead-8252-8f08654eb670",
   "metadata": {},
   "outputs": [],
   "source": [
    "assert np.isscalar(tval), \"We want a single t-value\"\n",
    "assert np.isscalar(pval), \"We want a single p-value\"\n",
    "assert pval < 0.05, f\"p-value is not significant {pval=}\"\n",
    "\n",
    "print(f\"{tval=}, {pval=}   Looking great! 😊\")"
   ]
  },
  {
   "cell_type": "markdown",
   "id": "c4bbae1d-c373-46cf-9e91-47fcf02c943f",
   "metadata": {},
   "source": [
    "## The \"cluster\" part of cluster permutation tests\n",
    "\n",
    "In essence, the permutation cluster test automates what we've just done above, but with a twist that we will get to later.\n",
    "\n",
    "First, it must determine \"clusters\", i.e. regions of interest where there might be a significant difference between the conditions.\n",
    "We eyeballed this based on the confidence interval of the mean, but the algorithm must use some form of automated function.\n",
    "We can specify the function that the algorithm should use, but it comes with a useful default: a t-test: [`mne.stats.ttest_1samp_no_p`](https://mne.tools/stable/generated/mne.stats.ttest_1samp_no_p.html).\n",
    "\n",
    "<div class=\"alert alert-block alert-warning\">\n",
    "    <b>COMMON CONFUSION</b><br>\n",
    "    The initial t-test (or whatever stat function you chose) is just to form clusters, it is not used to determine significance!\n",
    "</div>\n",
    "\n",
    "Let's do this step manually first, so you get an understanding what is going on:\n",
    " - First, we do the t-test for every timepoint\n",
    "   - This is a t-test against 0. To perform a paired t-test, we test `data_pixels - data_facenet`\n",
    " - Then, we set a threshold\n",
    " - Everything above the threshold becomes a cluster\n",
    " - We compute the sum of all the t-values inside the cluster"
   ]
  },
  {
   "cell_type": "code",
   "execution_count": null,
   "id": "728674fb-0ce1-4601-8c9a-76447c063a4b",
   "metadata": {},
   "outputs": [],
   "source": [
    "import matplotlib.pyplot as plt\n",
    "from mne.stats import ttest_1samp_no_p\n",
    "tvals = ttest_1samp_no_p(data_pixels - data_facenet)\n",
    "\n",
    "# Plot the t-values and form a cluster\n",
    "def plot_cluster(tvals, threshold, data_cond1, data_cond2):\n",
    "    times = rsa_pixels[0].times\n",
    "\n",
    "    # Make the cluster\n",
    "    cluster = np.where(tvals > threshold)[0]\n",
    "\n",
    "    # This is an important statistec: the sum of all t-values in the cluster\n",
    "    cluster_tvals_sum = tvals[cluster].sum()\n",
    "\n",
    "    # Show the t-values and how the cluster is determined\n",
    "    plt.figure(figsize=(8, 4))\n",
    "    plt.plot(times, tvals, label=\"t-values\")\n",
    "    plt.axhline(0, color=\"black\", linewidth=1)\n",
    "    plt.axhline(2, color=\"black\", linestyle=\"--\", linewidth=1, label=\"threshold\")\n",
    "    plt.fill_between(times[cluster], tvals[cluster], threshold * np.ones(len(cluster)), color=\"C1\", alpha=0.5, label=\"cluster\")\n",
    "    plt.legend()\n",
    "    plt.xlabel(\"Time samples\")\n",
    "    plt.ylabel(\"t-value\")\n",
    "    return cluster_tvals_sum\n",
    "\n",
    "\n",
    "cluster_tvals_sum = plot_cluster(tvals, threshold=2, data_cond1=data_pixels, data_cond2=data_facenet)\n",
    "print(f\"Sum of t-values in the cluster: {cluster_tvals_sum:.3f}\")"
   ]
  },
  {
   "cell_type": "markdown",
   "id": "b4eb2c1a-9274-401b-b7c4-1f99dbf17f4e",
   "metadata": {},
   "source": [
    "Based on the figure above, a threshold value of `2` seems to obtain a reasonable cluster.\n",
    "We could have chosen a different threshold, and there is no reason to choose a threshold that corresponds to some p-value, other than perhaps providing a sensible default value.\n",
    "The statistical function and the threshold used to form clusters are completely up to the researcher.\n",
    "The idea here is to use your domain knowledge to increase statistical power: when clusters \"make sense\" regarding to what we know about the experimental setup and how MEG data behaves, we are likely to obtain better p-values in the end.\n",
    "\n",
    "### The \"permutation\" part of the cluster permutation test\n",
    "Now that we have our cluster, we can \"permute\" it to find what random clusters looks like.\n",
    "In order to generate random clusters, we mix up the class labels.\n",
    "Read the code in the cell below carefully to find out how this is done:"
   ]
  },
  {
   "cell_type": "code",
   "execution_count": null,
   "id": "5144b54f-0666-4e0f-9171-86f4cee3efda",
   "metadata": {},
   "outputs": [],
   "source": [
    "# Throw the data onto one big pile\n",
    "big_pile = np.vstack((data_pixels, data_facenet))\n",
    "\n",
    "# Shuffle the rows. This is what a \"random permutation\" means.\n",
    "np.random.shuffle(big_pile)\n",
    "\n",
    "# Divide again into the \"pixels\" and \"facenet\" conditions\n",
    "permuted_pixels, permuted_facenet = big_pile[:len(subjects)], big_pile[len(subjects):]\n",
    "\n",
    "# Compute t-values, which should be nice and low\n",
    "permuted_tvals = ttest_1samp_no_p(permuted_pixels - permuted_facenet)\n",
    "\n",
    "# See what the clusters look like now\n",
    "permuted_cluster_tvals_sum = plot_cluster(permuted_tvals, threshold=2, data_cond1=permuted_pixels, data_cond2=permuted_facenet)\n",
    "print(\"Sum of t-values in cluster:\", permuted_cluster_tvals_sum.round(3))"
   ]
  },
  {
   "cell_type": "markdown",
   "id": "62001f08-8be5-465b-af73-a31883dc8e17",
   "metadata": {},
   "source": [
    "You can run the cell above multiple times to see what different permutations look like.\n",
    "If it is very rare that we get a cluster with larger max t-value than the one we found in the original data, we can say that there is a significant difference in the original data.\n",
    "Finally, the percentage of times you find a larger max t-value in the randomly permuted data is your p-value.\n",
    "\n",
    "And that is the cluster permutation test!\n",
    "\n",
    "<div class=\"alert alert-success\">\n",
    "<b>EXERCISE</b>:\n",
    "\n",
    "So, with all of this in mind, you can now use the MNE-Python [`permutation_cluster_1samp_test`](https://mne.tools/stable/generated/mne.stats.permutation_cluster_1samp_test.html) to perform everything we have done above in a single line of code.\n",
    "Keep the following in mind:\n",
    "- Read the documentation of [`permutation_cluster_1samp_test`](https://mne.tools/stable/generated/mne.stats.permutation_cluster_1samp_test.html) first!\n",
    "- The first parameter, `X` is your data matrix (`n_participants x n_times`). Since we are using paired t-tests to define clusters, you need to set this to `data_pixels - data_facenet` like we did before\n",
    "- The threshold to form clusters is `2` like we used before\n",
    "- Set `tail=1` to only look for positive t-values to mimic what we did before. You can also experiment with `-1` and `0` to look for clusters with negative t-values or both positive and negative.\n",
    "- The function returns lots of things, I've already filled in the variables it returns for you in the cell below.\n",
    "</div>"
   ]
  },
  {
   "cell_type": "code",
   "execution_count": null,
   "id": "73436624-5dcf-42ce-b1aa-ee15bd2aea77",
   "metadata": {},
   "outputs": [],
   "source": [
    "from mne.stats import permutation_cluster_1samp_test\n",
    "t_obs, clusters, pvals, H0 = # write your call to permutation_cluster_1samp_test() here"
   ]
  },
  {
   "cell_type": "markdown",
   "id": "f4982254-83f1-4a15-8b7e-80f4848cbea7",
   "metadata": {},
   "source": [
    "If you wrote the call above correctly, executing the cell below will explain what all the return values mean:"
   ]
  },
  {
   "cell_type": "code",
   "execution_count": null,
   "id": "62b17bdc-7477-47ee-a110-9b4bbc8d7895",
   "metadata": {},
   "outputs": [],
   "source": [
    "times = rsa_pixels[0].times\n",
    "print(f\"t_obs (an array of length {len(t_obs)}) contains the initial t-values that are used to create the clusters.\")\n",
    "print(f\"clusters (a list of length {len(clusters)}) contains for each cluster, the indices in the data array that are part of the cluster.\")\n",
    "print(f\"pvals (an array of length {len(pvals)}) contains for each cluster a p-value, more about this later.\")\n",
    "print(f\"H0 (an array of lenth {len(H0)}) contains the largest `permuted_cluster_tvals_sum` found in each random permutation.\")\n",
    "print()\n",
    "print(f\"The cluster permutation test found {len(clusters)} clusters.\")\n",
    "for i, cluster in enumerate(clusters):\n",
    "    print(f\"Cluster {i}: {times[cluster[0].min()]:.3f}-{times[cluster[0].max()]:.3f} seconds.\")"
   ]
  },
  {
   "cell_type": "markdown",
   "id": "7d222366-3c5a-4d92-bf57-be372c63d979",
   "metadata": {},
   "source": [
    "### Computing the p-value\n",
    "\n",
    "Depending on the value of `tail` you used in your call to [`permutation_cluster_1samp_test`](https://mne.tools/stable/generated/mne.stats.permutation_cluster_1samp_test.html), you have either 1, 2, or 3 clusters.\n",
    "The clusters that your test found each have an associated p-value.\n",
    "\n",
    "- If the sum-of-t-values for the cluster was **positive**, then the p-value is the fraction of random permutations that produced a cluster which a sum-of-t-values that was equal or **greater**\n",
    "- If the sum-of-t-values for the cluster was **negative**, then the p-value is the fraction of random permutations that produced a cluster which a sum-of-t-values that was equal or **smaller**\n",
    "\n",
    "<div class=\"alert alert-success\">\n",
    "<b>EXERCISE</b>:\n",
    "    \n",
    "You can use the `t_obs`, `clusters` and `H0` return values that you produced above to compute this p-value for yourself (and thereby test your knowledge of what these return values mean).\n",
    "Give it a try and compute the p-value for the first cluster yourself.\n",
    "Keep the following in mind:\n",
    " - Loop over all the clusters you found\n",
    " - Determine the `sum_of_t_values` inside the cluster\n",
    " - Compute the fraction of `H0` whose absolute value is equal or larger than the absolute `sum_of_t_values`\n",
    "</div>"
   ]
  },
  {
   "cell_type": "code",
   "execution_count": null,
   "id": "f7f516c9-d726-4fb4-91c4-0524bb95cafc",
   "metadata": {},
   "outputs": [],
   "source": [
    "print(f\"The cluster p-values should be:\\t{pvals}\")\n",
    "your_pvals = # write your code to compute the p-value here\n",
    "print(f\"Your cluster p-values are:\\t{your_pvals}\")"
   ]
  },
  {
   "cell_type": "markdown",
   "id": "8420a59a-3d62-40c0-892a-78269480301e",
   "metadata": {},
   "source": [
    "### Interpreting the p-value\n",
    "\n",
    "Now comes the twist that I mentioned in the beginning.\n",
    "The final part of the cluster permutation test is that you use the **smallest** cluster p-value as final outcome of the test.\n",
    "You might be tempted to judge the significance of each cluster separately based on its associated p-value, but that would be statistically incorrect.\n",
    "\n",
    "<div class=\"alert alert-block alert-warning\">\n",
    "    <b>COMMON CONFUSION</b><br>\n",
    "    The data inside a cluster was compared against random permutations of the dataset as a whole, not just the data inside the cluster.\n",
    "    Hence, the test does not say whether a cluster by itself is statistically significant or not.\n",
    "    The cluster permutation test only tells you whether the distribution of the data <b>as a whole</b> is significantly different between conditions.\n",
    "    This is the price you pay to avoid the multiple comparisons problem.\n",
    "</div>\n",
    "\n",
    "So what can you do? [Sassenhagen & Draschkow 2019](https://onlinelibrary.wiley.com/doi/10.1111/psyp.13335) offer some good advice.\n",
    "Personally, I would go for something like:\n",
    "\n",
    "> The cluster-based permutation test revealed a significant difference between the conditions (p=SMALLEST_P_VALUE). This result was mostly driven by clusters at X (CLUSTER_PVAL) and Y (CLUSTER_PVAL), which correspond roughly to DESCRIPTION_OF_ROIS\"."
   ]
  },
  {
   "cell_type": "markdown",
   "id": "839b4b93-d02e-4e3a-bc77-8d999b712d89",
   "metadata": {},
   "source": [
    "## Clusters across space and time\n",
    "<img src=\"images/tardis.jpg\" width=\"110\" style=\"float:right; margin-left: 20px\">\n",
    "\n",
    "The formation of clusters becomes a bit more tricky in the case of [`SourceEstimate`](https://mne.tools/stable/generated/mne.SourceEstimate.html) objects, where data is defines across vertices in space as well as samples in time.\n",
    "\n",
    "In this case, the first order of business is to morph everything to a template brain, so that the vertices are aligned.\n",
    "This is common practice in MEG group analysis, so I'm not going to cover that process in this tutorial.\n",
    "\n",
    "Instead, I have run the spatio-temporal RSA analysis that we did in the previous notebook across multiple subjects and placed the results in the `group_analysis` folder of your data package.\n",
    "Let's load them and see if we can run a spatio-temporal cluster-based permutation test (quite a mouthful)."
   ]
  },
  {
   "cell_type": "code",
   "execution_count": null,
   "id": "320970c6-d834-429e-8431-410dc6d9498a",
   "metadata": {},
   "outputs": [],
   "source": [
    "from mne import read_source_estimate\n",
    "stc_pixels = [read_source_estimate(f\"{data_path}/group_analysis/sub-{subject:02d}-rsa-pixels-morphed\") for subject in subjects]\n",
    "stc_facenet = [read_source_estimate(f\"{data_path}/group_analysis/sub-{subject:02d}-rsa-facenet-morphed\") for subject in subjects]"
   ]
  },
  {
   "cell_type": "markdown",
   "id": "6df24e37-f34f-4bac-b4e7-f54cc35b0fb8",
   "metadata": {},
   "source": [
    "Now, `stc_pixels` and `stc_facenet` are two lists containing the [`SourceEstimate`](https://mne.tools/stable/generated/mne.SourceEstimate.html)'s for all subjects.\n",
    "Here are 5 of them:"
   ]
  },
  {
   "cell_type": "code",
   "execution_count": null,
   "id": "39153f93-54db-40f8-a24d-9f167116b4c8",
   "metadata": {},
   "outputs": [],
   "source": [
    "stc_pixels[:5]"
   ]
  },
  {
   "cell_type": "markdown",
   "id": "f7bc8a0c-56e4-4922-b1ec-46025611bf98",
   "metadata": {},
   "source": [
    "Let's proceed as before by first looking at the difference between the means of the two conditions.\n",
    "I'm join got let you compute this to show off a neat sure of the [`SourceEstimate`](https://mne.tools/stable/generated/mne.SourceEstimate.html) class: it supports common math operations such as `+`, `-`, `*` and `/`.\n",
    "For example, computing the difference between the `pixels` and `facenet` RSA results of the first subject can simply be computed as `stc_diff = stc_pixels[0] - stc_facenet[0]`.\n",
    "\n",
    "<div class=\"alert alert-success\">\n",
    "<b>EXERCISE</b>:\n",
    "    \n",
    "In the cell below, compute the difference between the two conditions in a pairwise manner for each subject, then compute the mean across the pairwise differences:\n",
    "</div>"
   ]
  },
  {
   "cell_type": "code",
   "execution_count": null,
   "id": "723ebf8a-058a-47c0-8df5-7219768beb43",
   "metadata": {},
   "outputs": [],
   "source": [
    "stc_pairwise_diff = # write your code here"
   ]
  },
  {
   "cell_type": "markdown",
   "id": "6dccaf8d-5af1-4f35-8f1e-d4f47c117e57",
   "metadata": {},
   "source": [
    "If you did it correctly, executing the cell below will visualize your result:"
   ]
  },
  {
   "cell_type": "code",
   "execution_count": null,
   "id": "6bc2896e-5e5b-43f2-92dd-b9d330c41148",
   "metadata": {},
   "outputs": [],
   "source": [
    "stc_pairwise_diff.plot('fsaverage', subjects_dir=f\"{data_path}/freesurfer\", hemi=\"both\", initial_time=0.121, views=\"caudal\")"
   ]
  },
  {
   "cell_type": "markdown",
   "id": "05532d23-0ad7-4e6b-a28c-701a58530266",
   "metadata": {},
   "source": [
    "The figure shows us clear differences between the pixel versus FaceNet RSA scores across the visual cortex.\n",
    "\n",
    "<div class=\"alert alert-success\">\n",
    "<b>EXERCISE</b>:\n",
    "    \n",
    "Let's explore this difference with a t-value map.\n",
    "In order to compute t-values, we need to pull the data out of the [`SourceEstimate`](https://mne.tools/stable/generated/mne.SourceEstimate.html) objects.\n",
    "As before, since we have a within-subject contrast between the two conditions, we want to perform pairwise tests.\n",
    "So, as a first step, create a data array `X` of shape `(n_participants x n_vertices x n_times)` where each slice `i` along the first dimension is the difference between `stc_pixels[i].data - stc_facenet[i].data`.\n",
    "If you want a nice elegant way to write this, remember that [`zip()`](https://docs.python.org/3/library/functions.html#zip) is a thing. \n",
    "The next step is running `X` through the [`mne.stats.ttest_1samp_no_p`](https://mne.tools/stable/generated/mne.stats.ttest_1samp_no_p.html) function to obtain t-values.\n",
    "Store them in a variable called `tvals`.\n",
    "</div>"
   ]
  },
  {
   "cell_type": "code",
   "execution_count": null,
   "id": "20abd59e-adcc-494b-b1a5-bba52c09f732",
   "metadata": {},
   "outputs": [],
   "source": [
    "X = # write your code to construct X here\n",
    "tvals = # write your call to ttest_1samp_no_p() here"
   ]
  },
  {
   "cell_type": "markdown",
   "id": "64d0cdd1-c49d-438e-b2cf-864fc5e85f72",
   "metadata": {},
   "source": [
    "Executing the cell below will check your result:"
   ]
  },
  {
   "cell_type": "code",
   "execution_count": null,
   "id": "960ef698-c4ca-4334-ae2a-9d39d66d6888",
   "metadata": {},
   "outputs": [],
   "source": [
    "assert X.shape == (16, 20484, 109), \"Your `X` array has the wrong shape. 🤔\"\n",
    "assert -0.17 < X.min() < -0.16, \"Your `X` array does not have the correct values. 🤔\"\n",
    "assert 0.29 < X.max() < 0.30, \"Your `X` array does not have the correct values. 🤔\"\n",
    "\n",
    "assert tvals.shape == (20484, 109), \"Your `tvals` array has the wrong shape. 🤔\"\n",
    "assert -6.6 < tvals.min() < -6.5, \"Your `tvals` array does not have the correct values. 🤔\"\n",
    "assert 7.4 < tvals.max() < 7.5, \"Your `tvals` array does not have the correct values. 🤔\"\n",
    "\n",
    "print(\"All good! 😊\")"
   ]
  },
  {
   "cell_type": "markdown",
   "id": "0da4d455-fbf3-4e90-90b9-6a55ace5e1d6",
   "metadata": {},
   "source": [
    "Now we can pack the `tvals` into a new [`SourceEstimate`](https://mne.tools/stable/generated/mne.SourceEstimate.html) object in order to visualize them:"
   ]
  },
  {
   "cell_type": "code",
   "execution_count": null,
   "id": "39270ac9-efe5-4068-9ed3-8ff33089fe30",
   "metadata": {},
   "outputs": [],
   "source": [
    "stc_tvals = mne.SourceEstimate(\n",
    "    data=tvals,\n",
    "    vertices=stc_pixels[0].vertices,\n",
    "    tmin=stc_pixels[0].tmin,\n",
    "    tstep=stc_pixels[0].tstep,\n",
    "    subject='fsaverage'\n",
    ")\n",
    "stc_tvals.plot('fsaverage', subjects_dir=f\"{data_path}/freesurfer\", hemi=\"both\", initial_time=0.121, views=\"caudal\")"
   ]
  },
  {
   "cell_type": "markdown",
   "id": "2cb3c2fe-7765-4e72-a60a-06953a7b18c4",
   "metadata": {},
   "source": [
    "From this figure, it seems that setting a threshold of `4` may result in useful clusters for our cluster-based permutation test.\n",
    "The function to perform the test in both space and time is called [`mne.stats.spatio_temporal_cluster_1samp_test`](https://mne.tools/stable/generated/mne.stats.spatio_temporal_cluster_1samp_test.html).\n",
    "\n",
    "\n",
    "But wait! Before you go and run the test, there's two things we need to take care of.\n",
    "\n",
    "<div class=\"alert alert-block alert-warning\">\n",
    "<b>COMMON CONFUSION</b><br>\n",
    "    \n",
    "The order of the dimensions of `X`, namely `(n_subjects x n_vertices x n_samples)` is not how [`spatio_temporal_cluster_1samp_test`](https://mne.tools/stable/generated/mne.stats.spatio_temporal_cluster_1samp_test.html) wants them.\n",
    "The function wants them as `(n_subjects x n_samples x n_vertices)`.\n",
    "This is super unintuitive and everybody I know has gotten this wrong at least once.\n",
    "So, first we need to do `X.transpose(0, 2, 1)` to get the dimensions in the proper order.\n",
    "Please consider [helping us to improve the API](https://github.com/mne-tools/mne-python/issues/4859) and get this fixed.\n",
    "</div>\n",
    "\n",
    "The other this is that in order to form clusters across the cortex, we need to make sure that only neighbouring vertices are part of the same cluster.\n",
    "This is a similar problem as we faced when computing searchlight patches in space during our RSA analysis.\n",
    "The solution is found within the [`mne.SourceSpaces`](https://mne.tools/stable/generated/mne.SourceSpaces.html) object that keeps track of the distances between source points.\n",
    "Since all of our data has been morphed to the `fsaverage` template brain, we need to load the [`SourceSpaces`](https://mne.tools/stable/generated/mne.SourceSpaces.html) object for that brain."
   ]
  },
  {
   "cell_type": "code",
   "execution_count": null,
   "id": "dd7393d5-6ca5-408a-b3d8-39dc83458061",
   "metadata": {},
   "outputs": [],
   "source": [
    "src = mne.read_source_spaces(f\"{data_path}/freesurfer/fsaverage/bem/fsaverage-ico-5-src.fif\")"
   ]
  },
  {
   "cell_type": "markdown",
   "id": "b2312973-d02d-45e8-a081-1fad786315f8",
   "metadata": {},
   "source": [
    "<div class=\"alert alert-success\">\n",
    "<b>EXERCISE</b>:\n",
    "    \n",
    "Now we can compute the spatial adjacency matrix from the [`SourceSpaces`](https://mne.tools/stable/generated/mne.SourceSpaces.html) object through the [`mne.spatial_src_adjacency`](https://mne.tools/stable/generated/mne.spatial_src_adjacency.html) function.\n",
    "You can leave the `dist` parameter of that function at its default value of `None`.\n",
    "</div>"
   ]
  },
  {
   "cell_type": "code",
   "execution_count": null,
   "id": "34ef8cf2-6294-4244-8dbe-7d18cb8d460c",
   "metadata": {},
   "outputs": [],
   "source": [
    "from mne import spatial_src_adjacency\n",
    "adj = # Write your call to compute the adjacency matrix between source points here"
   ]
  },
  {
   "cell_type": "markdown",
   "id": "c1e989f5-f994-48de-928e-5458ac3bce60",
   "metadata": {},
   "source": [
    "Executing the cell below will check your result:"
   ]
  },
  {
   "cell_type": "code",
   "execution_count": null,
   "id": "eae2bd6d-ff29-46c7-b09a-11357b98683e",
   "metadata": {},
   "outputs": [],
   "source": [
    "assert adj.shape == (20484, 20484), \"You've `adj` seems to have the wrong shape. 🤔\"\n",
    "print(\"All good! 😊\")"
   ]
  },
  {
   "cell_type": "markdown",
   "id": "daaee8a4-f179-4df5-a0b2-4e49977ba731",
   "metadata": {},
   "source": [
    "<div class=\"alert alert-success\">\n",
    "<b>EXERCISE</b>:\n",
    "    \n",
    "Ok, now it's time to run the big spatio-temporal cluster-based permutation test!\n",
    "I've imported the function for you, it's up to you to call it correctly.\n",
    "[Read its documentation first](https://mne.tools/stable/generated/mne.stats.spatio_temporal_cluster_1samp_test.html) and then go for it!\n",
    "</div>"
   ]
  },
  {
   "cell_type": "code",
   "execution_count": null,
   "id": "fdc79168-a3da-4cd0-95f8-e35029a61d82",
   "metadata": {},
   "outputs": [],
   "source": [
    "from mne.stats import spatio_temporal_cluster_1samp_test\n",
    "t_obs, clusters, pvals, H0 = # write your call to spatio_temporal_cluster_1samp_test() here"
   ]
  },
  {
   "cell_type": "markdown",
   "id": "73baa43b-0799-48c0-947e-7510bea50dd7",
   "metadata": {},
   "source": [
    "<div class=\"alert alert-success\">\n",
    "<b>EXERCISE</b>:\n",
    "    \n",
    "What is the smallest cluster p-value that you found?\n",
    "Was it significant? (p < 0.05?)\n",
    "</div>\n",
    "\n",
    "MNE-Python comes with a function called [`mne.stats.summarize_clusters_stc`]() that shows the spatial extent of the clusters:"
   ]
  },
  {
   "cell_type": "code",
   "execution_count": null,
   "id": "fcfdfcd5-cf7e-455f-8295-29805d5cd0d8",
   "metadata": {},
   "outputs": [],
   "source": [
    "from mne.stats import summarize_clusters_stc\n",
    "stc_all_cluster_vis = summarize_clusters_stc(\n",
    "    (t_obs, clusters, pvals, H0),  # output of spatio_temporal_cluster_1samp_test\n",
    "    tstep=stc_pixels[0].tstep, # difference in time between two time samples\n",
    "    vertices=stc_pixels[0].vertices, # vertex numbers\n",
    "    subject=\"fsaverage\",  # FreeSurfer subject whose brain to draw\n",
    "    p_thresh=0.05,  # Only show clusters with an associated p-value below this threshold\n",
    ")\n",
    "\n",
    "# Plot the summary created by summarize_clusters_stc\n",
    "stc_all_cluster_vis.plot(\n",
    "    hemi=\"both\",\n",
    "    views=\"ventral\",\n",
    "    subjects_dir=f\"{data_path}/freesurfer\",\n",
    "    time_label=\"temporal extent (ms)\",\n",
    "    clim=dict(kind=\"value\", pos_lims=[0, 0.01, 0.11]),\n",
    ")"
   ]
  },
  {
   "cell_type": "markdown",
   "id": "f79a893a-9922-4667-bf5b-9fe5c5496e56",
   "metadata": {},
   "source": [
    "In the figure above, the first time point shows all the clusters and the subsequent timepoints show each cluster individually.\n",
    "The colors indicate the extent of the cluster in time (=number of samples)."
   ]
  },
  {
   "cell_type": "markdown",
   "id": "71eddd92-e3ce-4c38-917d-ac34a582f466",
   "metadata": {},
   "source": [
    "<center>\n",
    "    <span style=\"font-size: 30pt\">🎉 CONGRATULATIONS 🎉</span><br>\n",
    "    You've reached the end of this tutorial series and mastered the spatio-temporal cluster-based permutation test!\n",
    "</center>"
   ]
  }
 ],
 "metadata": {
  "kernelspec": {
   "display_name": "Python 3 (ipykernel)",
   "language": "python",
   "name": "python3"
  },
  "language_info": {
   "codemirror_mode": {
    "name": "ipython",
    "version": 3
   },
   "file_extension": ".py",
   "mimetype": "text/x-python",
   "name": "python",
   "nbconvert_exporter": "python",
   "pygments_lexer": "ipython3",
   "version": "3.10.9"
  }
 },
 "nbformat": 4,
 "nbformat_minor": 5
}
